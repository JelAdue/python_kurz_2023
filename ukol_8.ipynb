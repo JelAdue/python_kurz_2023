{
 "cells": [
  {
   "attachments": {},
   "cell_type": "markdown",
   "metadata": {},
   "source": [
    "# Zadání:\n",
    "\n",
    "Stáhni si dataset, který obsahuje seznam zvířat k adopci v ZOO Praha. Zdroj dat je Národní katalog otevřených dat.\n",
    "\n",
    "- Data si načti pomocí metody pandas.read_csv(). Pozor, nastav oddělovač na znak středníku. Využij parametr sep.\n",
    "\n",
    "- Seznam se s daty. Kolik má tabulka řádek a sloupců? Jak se sloupce jmenují?\n",
    "\n",
    "- Které zvíře se nachází na záznamu s indexem 34? Vypiš název tohoto zvířete v češtině a v angličtině.\n"
   ]
  },
  {
   "cell_type": "code",
   "execution_count": 1,
   "metadata": {},
   "outputs": [],
   "source": [
    "import pandas"
   ]
  },
  {
   "cell_type": "code",
   "execution_count": 4,
   "metadata": {},
   "outputs": [
    {
     "data": {
      "text/html": [
       "<div>\n",
       "<style scoped>\n",
       "    .dataframe tbody tr th:only-of-type {\n",
       "        vertical-align: middle;\n",
       "    }\n",
       "\n",
       "    .dataframe tbody tr th {\n",
       "        vertical-align: top;\n",
       "    }\n",
       "\n",
       "    .dataframe thead th {\n",
       "        text-align: right;\n",
       "    }\n",
       "</style>\n",
       "<table border=\"1\" class=\"dataframe\">\n",
       "  <thead>\n",
       "    <tr style=\"text-align: right;\">\n",
       "      <th></th>\n",
       "      <th>id</th>\n",
       "      <th>nazev_cz</th>\n",
       "      <th>nazev_en</th>\n",
       "      <th>trida_cz</th>\n",
       "      <th>cena</th>\n",
       "      <th>k_prohlidce</th>\n",
       "    </tr>\n",
       "  </thead>\n",
       "  <tbody>\n",
       "    <tr>\n",
       "      <th>0</th>\n",
       "      <td>7</td>\n",
       "      <td>Šváb syčivý</td>\n",
       "      <td>Madagascar giant cockroach</td>\n",
       "      <td>Bezobratlí</td>\n",
       "      <td>1000</td>\n",
       "      <td>1</td>\n",
       "    </tr>\n",
       "    <tr>\n",
       "      <th>1</th>\n",
       "      <td>8</td>\n",
       "      <td>Pakobylka okřídlená</td>\n",
       "      <td>Pink-winged stick insect</td>\n",
       "      <td>Bezobratlí</td>\n",
       "      <td>1000</td>\n",
       "      <td>1</td>\n",
       "    </tr>\n",
       "    <tr>\n",
       "      <th>2</th>\n",
       "      <td>16</td>\n",
       "      <td>Tayra</td>\n",
       "      <td>Tayra</td>\n",
       "      <td>Savci</td>\n",
       "      <td>5000</td>\n",
       "      <td>1</td>\n",
       "    </tr>\n",
       "    <tr>\n",
       "      <th>3</th>\n",
       "      <td>35</td>\n",
       "      <td>Kajmanka supí</td>\n",
       "      <td>Alligator snapping turtle</td>\n",
       "      <td>Plazi</td>\n",
       "      <td>2000</td>\n",
       "      <td>1</td>\n",
       "    </tr>\n",
       "    <tr>\n",
       "      <th>4</th>\n",
       "      <td>37</td>\n",
       "      <td>Želva žlutočelá</td>\n",
       "      <td>Indochinese box turtle</td>\n",
       "      <td>Plazi</td>\n",
       "      <td>1000</td>\n",
       "      <td>1</td>\n",
       "    </tr>\n",
       "    <tr>\n",
       "      <th>...</th>\n",
       "      <td>...</td>\n",
       "      <td>...</td>\n",
       "      <td>...</td>\n",
       "      <td>...</td>\n",
       "      <td>...</td>\n",
       "      <td>...</td>\n",
       "    </tr>\n",
       "    <tr>\n",
       "      <th>508</th>\n",
       "      <td>1417</td>\n",
       "      <td>Rosnice šalamounská</td>\n",
       "      <td></td>\n",
       "      <td>Obojživelníci</td>\n",
       "      <td>1000</td>\n",
       "      <td>1</td>\n",
       "    </tr>\n",
       "    <tr>\n",
       "      <th>509</th>\n",
       "      <td>1418</td>\n",
       "      <td>Létavka obecná</td>\n",
       "      <td></td>\n",
       "      <td>Obojživelníci</td>\n",
       "      <td>1000</td>\n",
       "      <td>1</td>\n",
       "    </tr>\n",
       "    <tr>\n",
       "      <th>510</th>\n",
       "      <td>1419</td>\n",
       "      <td>Bažant paví</td>\n",
       "      <td></td>\n",
       "      <td>Ptáci</td>\n",
       "      <td>1000</td>\n",
       "      <td>1</td>\n",
       "    </tr>\n",
       "    <tr>\n",
       "      <th>511</th>\n",
       "      <td>1420</td>\n",
       "      <td>Sojkovec rezavouchý</td>\n",
       "      <td></td>\n",
       "      <td>Ptáci</td>\n",
       "      <td>1000</td>\n",
       "      <td>1</td>\n",
       "    </tr>\n",
       "    <tr>\n",
       "      <th>512</th>\n",
       "      <td>1421</td>\n",
       "      <td>Kachnice kaštanová</td>\n",
       "      <td></td>\n",
       "      <td>Ptáci</td>\n",
       "      <td>1000</td>\n",
       "      <td>1</td>\n",
       "    </tr>\n",
       "  </tbody>\n",
       "</table>\n",
       "<p>513 rows × 6 columns</p>\n",
       "</div>"
      ],
      "text/plain": [
       "       id             nazev_cz                     nazev_en       trida_cz  \\\n",
       "0       7          Šváb syčivý  Madagascar giant cockroach      Bezobratlí   \n",
       "1       8  Pakobylka okřídlená     Pink-winged stick insect     Bezobratlí   \n",
       "2      16                Tayra                        Tayra          Savci   \n",
       "3      35        Kajmanka supí    Alligator snapping turtle          Plazi   \n",
       "4      37      Želva žlutočelá       Indochinese box turtle          Plazi   \n",
       "..    ...                  ...                          ...            ...   \n",
       "508  1417  Rosnice šalamounská                               Obojživelníci   \n",
       "509  1418       Létavka obecná                               Obojživelníci   \n",
       "510  1419          Bažant paví                                       Ptáci   \n",
       "511  1420  Sojkovec rezavouchý                                       Ptáci   \n",
       "512  1421   Kachnice kaštanová                                       Ptáci   \n",
       "\n",
       "     cena  k_prohlidce  \n",
       "0    1000            1  \n",
       "1    1000            1  \n",
       "2    5000            1  \n",
       "3    2000            1  \n",
       "4    1000            1  \n",
       "..    ...          ...  \n",
       "508  1000            1  \n",
       "509  1000            1  \n",
       "510  1000            1  \n",
       "511  1000            1  \n",
       "512  1000            1  \n",
       "\n",
       "[513 rows x 6 columns]"
      ]
     },
     "execution_count": 4,
     "metadata": {},
     "output_type": "execute_result"
    }
   ],
   "source": [
    "animals = pandas.read_csv(\"adopce-zvirat.csv\", sep= \";\")\n",
    "animals"
   ]
  },
  {
   "attachments": {},
   "cell_type": "markdown",
   "metadata": {},
   "source": [
    "    Které zvíře se nachází na záznamu s indexem 34? Vypiš název tohoto zvířete v češtině a v angličtině:"
   ]
  },
  {
   "cell_type": "code",
   "execution_count": 21,
   "metadata": {},
   "outputs": [
    {
     "data": {
      "text/plain": [
       "nazev_cz     Ibis bílý\n",
       "nazev_en    White ibis\n",
       "Name: 34, dtype: object"
      ]
     },
     "execution_count": 21,
     "metadata": {},
     "output_type": "execute_result"
    }
   ],
   "source": [
    "animals.iloc[34, 1:3]"
   ]
  },
  {
   "cell_type": "code",
   "execution_count": 73,
   "metadata": {},
   "outputs": [
    {
     "name": "stdout",
     "output_type": "stream",
     "text": [
      "Ibis bílý\n",
      "White ibis\n"
     ]
    }
   ],
   "source": [
    "print(animals.iloc[34, 1])\n",
    "print(animals.iloc[34, 2])"
   ]
  },
  {
   "attachments": {},
   "cell_type": "markdown",
   "metadata": {},
   "source": [
    "# Nepovinný bonus\n",
    "\n",
    "Využij metody sort_values() (a libovolných dalších metod), ke zjištění následujících informací:\n",
    "- Adopce kterých zvířat je nejdražší?\n",
    "- Které zvíře je alfabeticky poslední v češtině? Které v angličtině?\n",
    "\n",
    "Bonus můžeš doplnit o nějaké vlastní pozorování."
   ]
  },
  {
   "attachments": {},
   "cell_type": "markdown",
   "metadata": {},
   "source": [
    "    Adopce kterých zvířat je nejdražší?"
   ]
  },
  {
   "cell_type": "code",
   "execution_count": 57,
   "metadata": {},
   "outputs": [
    {
     "data": {
      "text/html": [
       "<div>\n",
       "<style scoped>\n",
       "    .dataframe tbody tr th:only-of-type {\n",
       "        vertical-align: middle;\n",
       "    }\n",
       "\n",
       "    .dataframe tbody tr th {\n",
       "        vertical-align: top;\n",
       "    }\n",
       "\n",
       "    .dataframe thead th {\n",
       "        text-align: right;\n",
       "    }\n",
       "</style>\n",
       "<table border=\"1\" class=\"dataframe\">\n",
       "  <thead>\n",
       "    <tr style=\"text-align: right;\">\n",
       "      <th></th>\n",
       "      <th>id</th>\n",
       "      <th>nazev_cz</th>\n",
       "      <th>nazev_en</th>\n",
       "      <th>trida_cz</th>\n",
       "      <th>cena</th>\n",
       "      <th>k_prohlidce</th>\n",
       "    </tr>\n",
       "  </thead>\n",
       "  <tbody>\n",
       "    <tr>\n",
       "      <th>114</th>\n",
       "      <td>335</td>\n",
       "      <td>Tygr sumaterský</td>\n",
       "      <td>Sumatran tiger</td>\n",
       "      <td>Savci</td>\n",
       "      <td>50000</td>\n",
       "      <td>1</td>\n",
       "    </tr>\n",
       "    <tr>\n",
       "      <th>113</th>\n",
       "      <td>334</td>\n",
       "      <td>Tygr ussurijský</td>\n",
       "      <td>Siberian tiger</td>\n",
       "      <td>Savci</td>\n",
       "      <td>50000</td>\n",
       "      <td>1</td>\n",
       "    </tr>\n",
       "    <tr>\n",
       "      <th>272</th>\n",
       "      <td>897</td>\n",
       "      <td>Tygr malajský</td>\n",
       "      <td>Malayan tiger</td>\n",
       "      <td>Savci</td>\n",
       "      <td>50000</td>\n",
       "      <td>1</td>\n",
       "    </tr>\n",
       "    <tr>\n",
       "      <th>129</th>\n",
       "      <td>385</td>\n",
       "      <td>Hroch obojživelný</td>\n",
       "      <td>Hippopotamus</td>\n",
       "      <td>Savci</td>\n",
       "      <td>50000</td>\n",
       "      <td>1</td>\n",
       "    </tr>\n",
       "    <tr>\n",
       "      <th>128</th>\n",
       "      <td>381</td>\n",
       "      <td>Slon indický</td>\n",
       "      <td>Asian elephant</td>\n",
       "      <td>Savci</td>\n",
       "      <td>50000</td>\n",
       "      <td>1</td>\n",
       "    </tr>\n",
       "    <tr>\n",
       "      <th>135</th>\n",
       "      <td>396</td>\n",
       "      <td>Žirafa severní núbijská (= Rothschildova)</td>\n",
       "      <td>Rothschild's giraffe</td>\n",
       "      <td>Savci</td>\n",
       "      <td>50000</td>\n",
       "      <td>1</td>\n",
       "    </tr>\n",
       "  </tbody>\n",
       "</table>\n",
       "</div>"
      ],
      "text/plain": [
       "      id                                   nazev_cz                nazev_en  \\\n",
       "114  335                            Tygr sumaterský          Sumatran tiger   \n",
       "113  334                            Tygr ussurijský          Siberian tiger   \n",
       "272  897                              Tygr malajský           Malayan tiger   \n",
       "129  385                          Hroch obojživelný            Hippopotamus   \n",
       "128  381                               Slon indický          Asian elephant   \n",
       "135  396  Žirafa severní núbijská (= Rothschildova)  Rothschild's giraffe     \n",
       "\n",
       "    trida_cz   cena  k_prohlidce  \n",
       "114    Savci  50000            1  \n",
       "113    Savci  50000            1  \n",
       "272    Savci  50000            1  \n",
       "129    Savci  50000            1  \n",
       "128    Savci  50000            1  \n",
       "135    Savci  50000            1  "
      ]
     },
     "execution_count": 57,
     "metadata": {},
     "output_type": "execute_result"
    }
   ],
   "source": [
    "#pomocí sort_values jsem si seřadila tabulku podle sloupce cena od největšího po nejnižší a uložila si to do nové proměnné serazena\n",
    "serazena = animals.sort_values(by=[\"cena\"], ascending=False)\n",
    "\n",
    "#nová proměnná top_cena kde je uložená hodnota nejvyšší ceny za adobci\n",
    "top_cena = serazena.iloc[1][\"cena\"]\n",
    "\n",
    "#výsledná tabulka kde jsou zvířata která mají cenu adobce = top_cena\n",
    "nejdrazsi_zvirata = serazena[serazena[\"cena\"] == top_cena]\n",
    "\n",
    "nejdrazsi_zvirata"
   ]
  },
  {
   "attachments": {},
   "cell_type": "markdown",
   "metadata": {},
   "source": [
    "    Které zvíře je alfabeticky poslední v češtině? Které v angličtině?  "
   ]
  },
  {
   "cell_type": "code",
   "execution_count": 64,
   "metadata": {},
   "outputs": [
    {
     "data": {
      "text/plain": [
       "'Žluva hajní'"
      ]
     },
     "execution_count": 64,
     "metadata": {},
     "output_type": "execute_result"
    }
   ],
   "source": [
    "serazena_alfabeta_cz = animals.sort_values(by=[\"nazev_cz\"], ascending=False)\n",
    "serazena_alfabeta_cz \n",
    "posledni_zvire_cz = serazena_alfabeta_cz.iloc[0][\"nazev_cz\"]\n",
    "posledni_zvire_cz "
   ]
  },
  {
   "cell_type": "code",
   "execution_count": 67,
   "metadata": {},
   "outputs": [
    {
     "data": {
      "text/plain": [
       "'Yellow-necked francolin'"
      ]
     },
     "execution_count": 67,
     "metadata": {},
     "output_type": "execute_result"
    }
   ],
   "source": [
    "serazena_alfabeta_en = animals.sort_values(by=[\"nazev_en\"], ascending=False)\n",
    "serazena_alfabeta_en \n",
    "posledni_zvire_en = serazena_alfabeta_en.iloc[0][\"nazev_en\"]\n",
    "posledni_zvire_en "
   ]
  }
 ],
 "metadata": {
  "kernelspec": {
   "display_name": "Python 3",
   "language": "python",
   "name": "python3"
  },
  "language_info": {
   "codemirror_mode": {
    "name": "ipython",
    "version": 3
   },
   "file_extension": ".py",
   "mimetype": "text/x-python",
   "name": "python",
   "nbconvert_exporter": "python",
   "pygments_lexer": "ipython3",
   "version": "3.10.10"
  },
  "orig_nbformat": 4
 },
 "nbformat": 4,
 "nbformat_minor": 2
}
